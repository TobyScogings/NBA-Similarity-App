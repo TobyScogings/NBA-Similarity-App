{
 "cells": [
  {
   "cell_type": "code",
   "execution_count": 1,
   "id": "7b45c78c-fe0f-4c83-a4b6-9d54779e7eb4",
   "metadata": {},
   "outputs": [],
   "source": [
    "import pandas as pd"
   ]
  },
  {
   "cell_type": "code",
   "execution_count": 3,
   "id": "c5fcf80f-ac4f-4619-8fed-2198fbbf8e3a",
   "metadata": {},
   "outputs": [],
   "source": [
    "df = pd.read_csv(\"model_data.csv\")\n",
    "df2 = pd.read_csv(\"model_data_pre-transform.csv\")"
   ]
  },
  {
   "cell_type": "code",
   "execution_count": 5,
   "id": "b45f5fb5-8545-457d-9c30-6ba963002158",
   "metadata": {},
   "outputs": [
    {
     "data": {
      "text/plain": [
       "Index(['player_id', 'Full Name', 'team_name', 'year', 'points', 'totReb',\n",
       "       'assists', 'steals', 'blocks', 'min', 'fga', 'fg%', 'tpa', 'tp%', 'fta',\n",
       "       'ft%', 'defReb', 'offReb', 'pFouls', 'turnovers'],\n",
       "      dtype='object')"
      ]
     },
     "execution_count": 5,
     "metadata": {},
     "output_type": "execute_result"
    }
   ],
   "source": [
    "df.columns"
   ]
  }
 ],
 "metadata": {
  "kernelspec": {
   "display_name": "Python 3 (ipykernel)",
   "language": "python",
   "name": "python3"
  },
  "language_info": {
   "codemirror_mode": {
    "name": "ipython",
    "version": 3
   },
   "file_extension": ".py",
   "mimetype": "text/x-python",
   "name": "python",
   "nbconvert_exporter": "python",
   "pygments_lexer": "ipython3",
   "version": "3.12.7"
  }
 },
 "nbformat": 4,
 "nbformat_minor": 5
}
