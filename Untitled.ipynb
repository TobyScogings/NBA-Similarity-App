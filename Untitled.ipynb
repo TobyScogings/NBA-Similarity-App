{
 "cells": [
  {
   "cell_type": "code",
   "execution_count": 1,
   "id": "7b45c78c-fe0f-4c83-a4b6-9d54779e7eb4",
   "metadata": {},
   "outputs": [],
   "source": [
    "import pandas as pd"
   ]
  },
  {
   "cell_type": "code",
   "execution_count": 3,
   "id": "c5fcf80f-ac4f-4619-8fed-2198fbbf8e3a",
   "metadata": {},
   "outputs": [],
   "source": [
    "df = pd.read_csv(\"model_data.csv\")\n",
    "df2 = pd.read_csv(\"model_data_pre-transform.csv\")"
   ]
  },
  {
   "cell_type": "code",
   "execution_count": 5,
   "id": "b45f5fb5-8545-457d-9c30-6ba963002158",
   "metadata": {},
   "outputs": [
    {
     "data": {
      "text/plain": [
       "Index(['player_id', 'Full Name', 'team_name', 'year', 'points', 'totReb',\n",
       "       'assists', 'steals', 'blocks', 'min', 'fga', 'fg%', 'tpa', 'tp%', 'fta',\n",
       "       'ft%', 'defReb', 'offReb', 'pFouls', 'turnovers'],\n",
       "      dtype='object')"
      ]
     },
     "execution_count": 5,
     "metadata": {},
     "output_type": "execute_result"
    }
   ],
   "source": [
    "df.columns"
   ]
  },
  {
   "cell_type": "code",
   "execution_count": 9,
   "id": "2ff06b19-6b46-4f97-9b3b-a695de716ed5",
   "metadata": {},
   "outputs": [],
   "source": [
    "df = df.rename(columns={\n",
    "    'points': 'Points',\n",
    "    'totReb': 'Total Rebounds',\n",
    "    'assists': 'Assists',\n",
    "    'steals': 'Steals',\n",
    "    'blocks': 'Blocks',\n",
    "    'min': 'Minutes',\n",
    "    'fga': 'Field Goals Attempted',\n",
    "    'fg%': 'Field Goal Percentage',\n",
    "    'tpa': 'Three-Point Attempts',\n",
    "    'tp%': 'Three-Point Percentage',\n",
    "    'fta': 'Free Throws Attempted',\n",
    "    'ft%': 'Free Throw Percentage',\n",
    "    'defReb': 'Defensive Rebounds',\n",
    "    'offReb': 'Offensive Rebounds',\n",
    "    'pFouls': 'Personal Fouls',\n",
    "    'turnovers': 'Turnovers'\n",
    "})"
   ]
  },
  {
   "cell_type": "code",
   "execution_count": 11,
   "id": "db891f76-e80f-43fa-891b-499070680deb",
   "metadata": {},
   "outputs": [
    {
     "data": {
      "text/plain": [
       "['player_id',\n",
       " 'Full Name',\n",
       " 'team_name',\n",
       " 'year',\n",
       " 'Points',\n",
       " 'Total Rebounds',\n",
       " 'Assists',\n",
       " 'Steals',\n",
       " 'Blocks',\n",
       " 'Minutes',\n",
       " 'Field Goals Attempted',\n",
       " 'Field Goal Percentage',\n",
       " 'Three-Point Attempts',\n",
       " 'Three-Point Percentage',\n",
       " 'Free Throws Attempted',\n",
       " 'Free Throw Percentage',\n",
       " 'Defensive Rebounds',\n",
       " 'Offensive Rebounds',\n",
       " 'Personal Fouls',\n",
       " 'Turnovers']"
      ]
     },
     "execution_count": 11,
     "metadata": {},
     "output_type": "execute_result"
    }
   ],
   "source": [
    "df.columns.to_list()"
   ]
  }
 ],
 "metadata": {
  "kernelspec": {
   "display_name": "Python 3 (ipykernel)",
   "language": "python",
   "name": "python3"
  },
  "language_info": {
   "codemirror_mode": {
    "name": "ipython",
    "version": 3
   },
   "file_extension": ".py",
   "mimetype": "text/x-python",
   "name": "python",
   "nbconvert_exporter": "python",
   "pygments_lexer": "ipython3",
   "version": "3.12.7"
  }
 },
 "nbformat": 4,
 "nbformat_minor": 5
}
