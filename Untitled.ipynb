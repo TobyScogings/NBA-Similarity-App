{
 "cells": [
  {
   "cell_type": "code",
   "execution_count": 15,
   "id": "7b45c78c-fe0f-4c83-a4b6-9d54779e7eb4",
   "metadata": {},
   "outputs": [],
   "source": [
    "import pandas as pd"
   ]
  },
  {
   "cell_type": "code",
   "execution_count": 17,
   "id": "c5fcf80f-ac4f-4619-8fed-2198fbbf8e3a",
   "metadata": {},
   "outputs": [],
   "source": [
    "df = pd.read_csv(\"model_data.csv\")\n",
    "df2 = pd.read_csv(\"model_data_pre-transform.csv\")"
   ]
  },
  {
   "cell_type": "code",
   "execution_count": 18,
   "id": "b45f5fb5-8545-457d-9c30-6ba963002158",
   "metadata": {},
   "outputs": [
    {
     "data": {
      "text/plain": [
       "Index(['player_id', 'Full Name', 'team_name', 'year', 'points', 'totReb',\n",
       "       'assists', 'steals', 'blocks', 'min', 'fga', 'fg%', 'tpa', 'tp%', 'fta',\n",
       "       'ft%', 'defReb', 'offReb', 'pFouls', 'turnovers'],\n",
       "      dtype='object')"
      ]
     },
     "execution_count": 18,
     "metadata": {},
     "output_type": "execute_result"
    }
   ],
   "source": [
    "df.columns"
   ]
  },
  {
   "cell_type": "code",
   "execution_count": 19,
   "id": "2ff06b19-6b46-4f97-9b3b-a695de716ed5",
   "metadata": {},
   "outputs": [],
   "source": [
    "df = df.rename(columns={\n",
    "    'points': 'Points',\n",
    "    'totReb': 'Total Rebounds',\n",
    "    'assists': 'Assists',\n",
    "    'steals': 'Steals',\n",
    "    'blocks': 'Blocks',\n",
    "    'min': 'Minutes',\n",
    "    'fga': 'Field Goals Attempted',\n",
    "    'fg%': 'Field Goal Percentage',\n",
    "    'tpa': 'Three-Point Attempts',\n",
    "    'tp%': 'Three-Point Percentage',\n",
    "    'fta': 'Free Throws Attempted',\n",
    "    'ft%': 'Free Throw Percentage',\n",
    "    'defReb': 'Defensive Rebounds',\n",
    "    'offReb': 'Offensive Rebounds',\n",
    "    'pFouls': 'Personal Fouls',\n",
    "    'turnovers': 'Turnovers'\n",
    "})"
   ]
  },
  {
   "cell_type": "code",
   "execution_count": 20,
   "id": "db891f76-e80f-43fa-891b-499070680deb",
   "metadata": {},
   "outputs": [
    {
     "data": {
      "text/plain": [
       "['player_id',\n",
       " 'Full Name',\n",
       " 'team_name',\n",
       " 'year',\n",
       " 'Points',\n",
       " 'Total Rebounds',\n",
       " 'Assists',\n",
       " 'Steals',\n",
       " 'Blocks',\n",
       " 'Minutes',\n",
       " 'Field Goals Attempted',\n",
       " 'Field Goal Percentage',\n",
       " 'Three-Point Attempts',\n",
       " 'Three-Point Percentage',\n",
       " 'Free Throws Attempted',\n",
       " 'Free Throw Percentage',\n",
       " 'Defensive Rebounds',\n",
       " 'Offensive Rebounds',\n",
       " 'Personal Fouls',\n",
       " 'Turnovers']"
      ]
     },
     "execution_count": 20,
     "metadata": {},
     "output_type": "execute_result"
    }
   ],
   "source": [
    "df.columns.to_list()"
   ]
  },
  {
   "cell_type": "code",
   "execution_count": 21,
   "id": "6e5eeeeb-b64d-4aba-b1ce-9e1f8774c2e8",
   "metadata": {},
   "outputs": [
    {
     "data": {
      "text/html": [
       "<div>\n",
       "<style scoped>\n",
       "    .dataframe tbody tr th:only-of-type {\n",
       "        vertical-align: middle;\n",
       "    }\n",
       "\n",
       "    .dataframe tbody tr th {\n",
       "        vertical-align: top;\n",
       "    }\n",
       "\n",
       "    .dataframe thead th {\n",
       "        text-align: right;\n",
       "    }\n",
       "</style>\n",
       "<table border=\"1\" class=\"dataframe\">\n",
       "  <thead>\n",
       "    <tr style=\"text-align: right;\">\n",
       "      <th></th>\n",
       "      <th>player_id</th>\n",
       "      <th>Full Name</th>\n",
       "      <th>team_name</th>\n",
       "      <th>year</th>\n",
       "      <th>Points</th>\n",
       "      <th>Total Rebounds</th>\n",
       "      <th>Assists</th>\n",
       "      <th>Steals</th>\n",
       "      <th>Blocks</th>\n",
       "      <th>Minutes</th>\n",
       "      <th>Field Goals Attempted</th>\n",
       "      <th>Field Goal Percentage</th>\n",
       "      <th>Three-Point Attempts</th>\n",
       "      <th>Three-Point Percentage</th>\n",
       "      <th>Free Throws Attempted</th>\n",
       "      <th>Free Throw Percentage</th>\n",
       "      <th>Defensive Rebounds</th>\n",
       "      <th>Offensive Rebounds</th>\n",
       "      <th>Personal Fouls</th>\n",
       "      <th>Turnovers</th>\n",
       "    </tr>\n",
       "  </thead>\n",
       "  <tbody>\n",
       "    <tr>\n",
       "      <th>0</th>\n",
       "      <td>1046</td>\n",
       "      <td>Trae Young</td>\n",
       "      <td>Atlanta Hawks</td>\n",
       "      <td>2020</td>\n",
       "      <td>0.995681</td>\n",
       "      <td>0.323044</td>\n",
       "      <td>1.116568</td>\n",
       "      <td>0.523882</td>\n",
       "      <td>0.155260</td>\n",
       "      <td>1.213865</td>\n",
       "      <td>1.318701</td>\n",
       "      <td>-0.130086</td>\n",
       "      <td>0.747823</td>\n",
       "      <td>0.214394</td>\n",
       "      <td>1.010837</td>\n",
       "      <td>0.755343</td>\n",
       "      <td>0.394928</td>\n",
       "      <td>0.202257</td>\n",
       "      <td>0.353311</td>\n",
       "      <td>0.974856</td>\n",
       "    </tr>\n",
       "    <tr>\n",
       "      <th>1</th>\n",
       "      <td>761</td>\n",
       "      <td>John Collins</td>\n",
       "      <td>Atlanta Hawks</td>\n",
       "      <td>2020</td>\n",
       "      <td>0.728270</td>\n",
       "      <td>0.850352</td>\n",
       "      <td>0.140720</td>\n",
       "      <td>0.303856</td>\n",
       "      <td>0.757634</td>\n",
       "      <td>1.000103</td>\n",
       "      <td>0.869667</td>\n",
       "      <td>0.832423</td>\n",
       "      <td>0.446584</td>\n",
       "      <td>0.549878</td>\n",
       "      <td>0.628040</td>\n",
       "      <td>0.514534</td>\n",
       "      <td>0.796103</td>\n",
       "      <td>0.730263</td>\n",
       "      <td>0.652330</td>\n",
       "      <td>0.446041</td>\n",
       "    </tr>\n",
       "    <tr>\n",
       "      <th>2</th>\n",
       "      <td>743</td>\n",
       "      <td>Bogdan Bogdanovic</td>\n",
       "      <td>Atlanta Hawks</td>\n",
       "      <td>2020</td>\n",
       "      <td>0.684958</td>\n",
       "      <td>0.352533</td>\n",
       "      <td>0.597511</td>\n",
       "      <td>0.637731</td>\n",
       "      <td>0.368448</td>\n",
       "      <td>1.033505</td>\n",
       "      <td>0.980749</td>\n",
       "      <td>-0.015630</td>\n",
       "      <td>0.793003</td>\n",
       "      <td>0.625912</td>\n",
       "      <td>0.196204</td>\n",
       "      <td>0.657162</td>\n",
       "      <td>0.433951</td>\n",
       "      <td>0.172645</td>\n",
       "      <td>0.486416</td>\n",
       "      <td>0.431512</td>\n",
       "    </tr>\n",
       "    <tr>\n",
       "      <th>3</th>\n",
       "      <td>1868</td>\n",
       "      <td>De'Andre Hunter</td>\n",
       "      <td>Atlanta Hawks</td>\n",
       "      <td>2020</td>\n",
       "      <td>0.647385</td>\n",
       "      <td>0.475982</td>\n",
       "      <td>0.266909</td>\n",
       "      <td>0.398055</td>\n",
       "      <td>0.566599</td>\n",
       "      <td>0.983799</td>\n",
       "      <td>0.761695</td>\n",
       "      <td>0.266181</td>\n",
       "      <td>0.543786</td>\n",
       "      <td>0.385205</td>\n",
       "      <td>0.697147</td>\n",
       "      <td>0.563173</td>\n",
       "      <td>0.537578</td>\n",
       "      <td>0.282107</td>\n",
       "      <td>0.525714</td>\n",
       "      <td>0.453480</td>\n",
       "    </tr>\n",
       "    <tr>\n",
       "      <th>4</th>\n",
       "      <td>92</td>\n",
       "      <td>Clint Capela</td>\n",
       "      <td>Atlanta Hawks</td>\n",
       "      <td>2020</td>\n",
       "      <td>0.617561</td>\n",
       "      <td>1.242707</td>\n",
       "      <td>-0.060409</td>\n",
       "      <td>0.391632</td>\n",
       "      <td>0.999254</td>\n",
       "      <td>1.021524</td>\n",
       "      <td>0.732403</td>\n",
       "      <td>1.186982</td>\n",
       "      <td>-3.711714</td>\n",
       "      <td>-1.850028</td>\n",
       "      <td>0.657547</td>\n",
       "      <td>-0.568069</td>\n",
       "      <td>1.089309</td>\n",
       "      <td>1.072467</td>\n",
       "      <td>0.484256</td>\n",
       "      <td>0.364592</td>\n",
       "    </tr>\n",
       "  </tbody>\n",
       "</table>\n",
       "</div>"
      ],
      "text/plain": [
       "   player_id          Full Name      team_name  year    Points  \\\n",
       "0       1046         Trae Young  Atlanta Hawks  2020  0.995681   \n",
       "1        761       John Collins  Atlanta Hawks  2020  0.728270   \n",
       "2        743  Bogdan Bogdanovic  Atlanta Hawks  2020  0.684958   \n",
       "3       1868    De'Andre Hunter  Atlanta Hawks  2020  0.647385   \n",
       "4         92       Clint Capela  Atlanta Hawks  2020  0.617561   \n",
       "\n",
       "   Total Rebounds   Assists    Steals    Blocks   Minutes  \\\n",
       "0        0.323044  1.116568  0.523882  0.155260  1.213865   \n",
       "1        0.850352  0.140720  0.303856  0.757634  1.000103   \n",
       "2        0.352533  0.597511  0.637731  0.368448  1.033505   \n",
       "3        0.475982  0.266909  0.398055  0.566599  0.983799   \n",
       "4        1.242707 -0.060409  0.391632  0.999254  1.021524   \n",
       "\n",
       "   Field Goals Attempted  Field Goal Percentage  Three-Point Attempts  \\\n",
       "0               1.318701              -0.130086              0.747823   \n",
       "1               0.869667               0.832423              0.446584   \n",
       "2               0.980749              -0.015630              0.793003   \n",
       "3               0.761695               0.266181              0.543786   \n",
       "4               0.732403               1.186982             -3.711714   \n",
       "\n",
       "   Three-Point Percentage  Free Throws Attempted  Free Throw Percentage  \\\n",
       "0                0.214394               1.010837               0.755343   \n",
       "1                0.549878               0.628040               0.514534   \n",
       "2                0.625912               0.196204               0.657162   \n",
       "3                0.385205               0.697147               0.563173   \n",
       "4               -1.850028               0.657547              -0.568069   \n",
       "\n",
       "   Defensive Rebounds  Offensive Rebounds  Personal Fouls  Turnovers  \n",
       "0            0.394928            0.202257        0.353311   0.974856  \n",
       "1            0.796103            0.730263        0.652330   0.446041  \n",
       "2            0.433951            0.172645        0.486416   0.431512  \n",
       "3            0.537578            0.282107        0.525714   0.453480  \n",
       "4            1.089309            1.072467        0.484256   0.364592  "
      ]
     },
     "execution_count": 21,
     "metadata": {},
     "output_type": "execute_result"
    }
   ],
   "source": [
    "df.head()"
   ]
  },
  {
   "cell_type": "code",
   "execution_count": 31,
   "id": "67c54e01-2b1d-4024-a388-0b2a6d596d78",
   "metadata": {},
   "outputs": [
    {
     "data": {
      "text/plain": [
       "False"
      ]
     },
     "execution_count": 31,
     "metadata": {},
     "output_type": "execute_result"
    }
   ],
   "source": [
    "df[(df['Full Name'] == 'Paolo Banchero') & (df['year'] == 2024)].empty"
   ]
  }
 ],
 "metadata": {
  "kernelspec": {
   "display_name": "Python 3 (ipykernel)",
   "language": "python",
   "name": "python3"
  },
  "language_info": {
   "codemirror_mode": {
    "name": "ipython",
    "version": 3
   },
   "file_extension": ".py",
   "mimetype": "text/x-python",
   "name": "python",
   "nbconvert_exporter": "python",
   "pygments_lexer": "ipython3",
   "version": "3.12.7"
  }
 },
 "nbformat": 4,
 "nbformat_minor": 5
}
